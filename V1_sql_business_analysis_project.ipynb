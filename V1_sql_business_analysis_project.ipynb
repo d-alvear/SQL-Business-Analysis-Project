{
 "cells": [
  {
   "cell_type": "markdown",
   "metadata": {
    "collapsed": true
   },
   "source": [
    "# SQL Practice: Answering Business Questions Using SQL\n",
    "## Introduction\n",
    "In this project, I will be praciticing my SQL skills to answer business questions. For each question, I will:\n",
    "\n",
    "* Write a SQL query to extract the relevant data\n",
    "* Create plots where necessary to visualize the data\n",
    "* Write a short paragraph drawing conclusions, explaining the data and/or visualizations.\n",
    "\n",
    "## Database\n",
    "I'll be using the [Chinook database](https://github.com/lerocha/chinook-database), which is a sample database available for SQL Server, Oracle, MySQL, etc. The Chinook data model represents a digital media store, including tables for artists, albums, media tracks, invoices and customers and has the schema below.\n",
    "<img src= https://s3.amazonaws.com/dq-content/191/chinook-schema.svg>\n"
   ]
  },
  {
   "cell_type": "code",
   "execution_count": null,
   "metadata": {
    "collapsed": true
   },
   "outputs": [],
   "source": []
  }
 ],
 "metadata": {
  "kernelspec": {
   "display_name": "Python 3",
   "language": "python",
   "name": "python3"
  },
  "language_info": {
   "codemirror_mode": {
    "name": "ipython",
    "version": 3
   },
   "file_extension": ".py",
   "mimetype": "text/x-python",
   "name": "python",
   "nbconvert_exporter": "python",
   "pygments_lexer": "ipython3",
   "version": "3.4.3"
  }
 },
 "nbformat": 4,
 "nbformat_minor": 2
}
