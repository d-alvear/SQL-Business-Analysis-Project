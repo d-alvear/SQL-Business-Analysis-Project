{
 "cells": [
  {
   "cell_type": "markdown",
   "metadata": {
    "collapsed": true
   },
   "source": [
    "# SQL Practice: Answering Business Questions Using SQL\n",
    "## Introduction\n",
    "In this project, I will be praciticing my SQL skills to answer business questions. For each question, I will:\n",
    "\n",
    "* Write a SQL query to extract the relevant data\n",
    "* Create plots where necessary to visualize the data\n",
    "* Write a short paragraph drawing conclusions, explaining the data and/or visualizations.\n",
    "\n",
    "## Database\n",
    "I'll be using the [Chinook database](https://github.com/lerocha/chinook-database), which is a sample database available for SQL Server, Oracle, MySQL, etc. The Chinook data model represents a digital media store, including tables for artists, albums, media tracks, invoices and customers and has the schema below.\n",
    "<img src= https://s3.amazonaws.com/dq-content/191/chinook-schema.svg>\n",
    "\n",
    "\n",
    "Now I'll start by setting up the notebook environment and create some helper functions to save time."
   ]
  },
  {
   "cell_type": "code",
   "execution_count": 1,
   "metadata": {
    "collapsed": false
   },
   "outputs": [
    {
     "data": {
      "text/html": [
       "<div>\n",
       "<style scoped>\n",
       "    .dataframe tbody tr th:only-of-type {\n",
       "        vertical-align: middle;\n",
       "    }\n",
       "\n",
       "    .dataframe tbody tr th {\n",
       "        vertical-align: top;\n",
       "    }\n",
       "\n",
       "    .dataframe thead th {\n",
       "        text-align: right;\n",
       "    }\n",
       "</style>\n",
       "<table border=\"1\" class=\"dataframe\">\n",
       "  <thead>\n",
       "    <tr style=\"text-align: right;\">\n",
       "      <th></th>\n",
       "      <th>name</th>\n",
       "      <th>type</th>\n",
       "    </tr>\n",
       "  </thead>\n",
       "  <tbody>\n",
       "    <tr>\n",
       "      <th>0</th>\n",
       "      <td>album</td>\n",
       "      <td>table</td>\n",
       "    </tr>\n",
       "    <tr>\n",
       "      <th>1</th>\n",
       "      <td>artist</td>\n",
       "      <td>table</td>\n",
       "    </tr>\n",
       "    <tr>\n",
       "      <th>2</th>\n",
       "      <td>customer</td>\n",
       "      <td>table</td>\n",
       "    </tr>\n",
       "    <tr>\n",
       "      <th>3</th>\n",
       "      <td>employee</td>\n",
       "      <td>table</td>\n",
       "    </tr>\n",
       "    <tr>\n",
       "      <th>4</th>\n",
       "      <td>genre</td>\n",
       "      <td>table</td>\n",
       "    </tr>\n",
       "    <tr>\n",
       "      <th>5</th>\n",
       "      <td>invoice</td>\n",
       "      <td>table</td>\n",
       "    </tr>\n",
       "    <tr>\n",
       "      <th>6</th>\n",
       "      <td>invoice_line</td>\n",
       "      <td>table</td>\n",
       "    </tr>\n",
       "    <tr>\n",
       "      <th>7</th>\n",
       "      <td>media_type</td>\n",
       "      <td>table</td>\n",
       "    </tr>\n",
       "    <tr>\n",
       "      <th>8</th>\n",
       "      <td>playlist</td>\n",
       "      <td>table</td>\n",
       "    </tr>\n",
       "    <tr>\n",
       "      <th>9</th>\n",
       "      <td>playlist_track</td>\n",
       "      <td>table</td>\n",
       "    </tr>\n",
       "    <tr>\n",
       "      <th>10</th>\n",
       "      <td>track</td>\n",
       "      <td>table</td>\n",
       "    </tr>\n",
       "  </tbody>\n",
       "</table>\n",
       "</div>"
      ],
      "text/plain": [
       "              name   type\n",
       "0            album  table\n",
       "1           artist  table\n",
       "2         customer  table\n",
       "3         employee  table\n",
       "4            genre  table\n",
       "5          invoice  table\n",
       "6     invoice_line  table\n",
       "7       media_type  table\n",
       "8         playlist  table\n",
       "9   playlist_track  table\n",
       "10           track  table"
      ]
     },
     "execution_count": 1,
     "metadata": {},
     "output_type": "execute_result"
    }
   ],
   "source": [
    "#setting up environment\n",
    "import pandas as pd\n",
    "import numpy as np\n",
    "import matplotlib.pyplot as plt\n",
    "%matplotlib inline\n",
    "import sqlite3\n",
    "db = 'chinook.db'\n",
    "\n",
    "#creating a function that takes a SQL query as an argument and returns a pandas dataframe of that query\n",
    "def run_query(q):\n",
    "    with sqlite3.connect(db) as conn:\n",
    "        return pd.read_sql(q, conn)\n",
    "    \n",
    "#creating a function that takes a SQL command as an argument and executes it using the sqlite module\n",
    "def run_command(c):\n",
    "    with sqlite.connect(db) as conn:\n",
    "        conn.isolation_level = None #autocommits any changes\n",
    "        conn.execute(c)\n",
    "        \n",
    "#creating a function that calls the run_query() function to return a list of all tables and views in the databse\n",
    "def show_tables():\n",
    "    q = '''\n",
    "    SELECT\n",
    "        name,\n",
    "        type\n",
    "    FROM sqlite_master\n",
    "    WHERE type IN (\"table\",\"view\");\n",
    "    '''\n",
    "    return run_query(q)\n",
    "#now I'll run the function below to see all the tables and views in chinook.db\n",
    "show_tables()"
   ]
  },
  {
   "cell_type": "markdown",
   "metadata": {},
   "source": [
    "I see that I have a pandas dataframe of the 11 tables from the chinook database.\n",
    "\n",
    "## Questions\n",
    "### 1. Selecting Albums to Purchase\n",
    "The Chinook record store has just signed a deal with a new record label, and I've been tasked with selecting the first three albums that will be added to the store, from a list of four. All four albums are by artists that don't have any tracks in the store right now - I have the artist names, and the genre of music they produce:\n",
    "\n",
    "|Artist Name | Genre |\n",
    "|------------|-------|\n",
    "|Regal | Hip-Hop|\n",
    "|Red Tone | Punk |\n",
    "|Meteor and the Girls | Pop |\n",
    "|Slim Jim Bites | Blues|\n",
    "\n",
    "The record label specializes in artists from the USA, and they have given Chinook some money to advertise the new albums in the USA, so I'm interested in finding out which genres sell the best in the USA.\n",
    "\n",
    "Task: I'll need to write a query to find out which genres sell the most tracks in the USA, and then create a visualization of that data using pandas.\n",
    "\n",
    "\n"
   ]
  },
  {
   "cell_type": "code",
   "execution_count": 2,
   "metadata": {
    "collapsed": false
   },
   "outputs": [
    {
     "data": {
      "text/html": [
       "<div>\n",
       "<style scoped>\n",
       "    .dataframe tbody tr th:only-of-type {\n",
       "        vertical-align: middle;\n",
       "    }\n",
       "\n",
       "    .dataframe tbody tr th {\n",
       "        vertical-align: top;\n",
       "    }\n",
       "\n",
       "    .dataframe thead th {\n",
       "        text-align: right;\n",
       "    }\n",
       "</style>\n",
       "<table border=\"1\" class=\"dataframe\">\n",
       "  <thead>\n",
       "    <tr style=\"text-align: right;\">\n",
       "      <th></th>\n",
       "      <th>genres</th>\n",
       "      <th>num_tracks_sold</th>\n",
       "      <th>percent_sold</th>\n",
       "    </tr>\n",
       "  </thead>\n",
       "  <tbody>\n",
       "    <tr>\n",
       "      <th>0</th>\n",
       "      <td>Rock</td>\n",
       "      <td>561</td>\n",
       "      <td>0.533777</td>\n",
       "    </tr>\n",
       "    <tr>\n",
       "      <th>1</th>\n",
       "      <td>Alternative &amp; Punk</td>\n",
       "      <td>130</td>\n",
       "      <td>0.123692</td>\n",
       "    </tr>\n",
       "    <tr>\n",
       "      <th>2</th>\n",
       "      <td>Metal</td>\n",
       "      <td>124</td>\n",
       "      <td>0.117983</td>\n",
       "    </tr>\n",
       "    <tr>\n",
       "      <th>3</th>\n",
       "      <td>R&amp;B/Soul</td>\n",
       "      <td>53</td>\n",
       "      <td>0.050428</td>\n",
       "    </tr>\n",
       "    <tr>\n",
       "      <th>4</th>\n",
       "      <td>Blues</td>\n",
       "      <td>36</td>\n",
       "      <td>0.034253</td>\n",
       "    </tr>\n",
       "    <tr>\n",
       "      <th>5</th>\n",
       "      <td>Alternative</td>\n",
       "      <td>35</td>\n",
       "      <td>0.033302</td>\n",
       "    </tr>\n",
       "    <tr>\n",
       "      <th>6</th>\n",
       "      <td>Latin</td>\n",
       "      <td>22</td>\n",
       "      <td>0.020932</td>\n",
       "    </tr>\n",
       "    <tr>\n",
       "      <th>7</th>\n",
       "      <td>Pop</td>\n",
       "      <td>22</td>\n",
       "      <td>0.020932</td>\n",
       "    </tr>\n",
       "    <tr>\n",
       "      <th>8</th>\n",
       "      <td>Hip Hop/Rap</td>\n",
       "      <td>20</td>\n",
       "      <td>0.019029</td>\n",
       "    </tr>\n",
       "    <tr>\n",
       "      <th>9</th>\n",
       "      <td>Jazz</td>\n",
       "      <td>14</td>\n",
       "      <td>0.013321</td>\n",
       "    </tr>\n",
       "  </tbody>\n",
       "</table>\n",
       "</div>"
      ],
      "text/plain": [
       "               genres  num_tracks_sold  percent_sold\n",
       "0                Rock              561      0.533777\n",
       "1  Alternative & Punk              130      0.123692\n",
       "2               Metal              124      0.117983\n",
       "3            R&B/Soul               53      0.050428\n",
       "4               Blues               36      0.034253\n",
       "5         Alternative               35      0.033302\n",
       "6               Latin               22      0.020932\n",
       "7                 Pop               22      0.020932\n",
       "8         Hip Hop/Rap               20      0.019029\n",
       "9                Jazz               14      0.013321"
      ]
     },
     "execution_count": 2,
     "metadata": {},
     "output_type": "execute_result"
    }
   ],
   "source": [
    "q1 = \"\"\"\n",
    "\n",
    "WITH usa_tracks AS\n",
    "    (\n",
    "     SELECT i.billing_country country,\n",
    "            il.*\n",
    "     FROM invoice i\n",
    "     LEFT JOIN invoice_line il ON il.invoice_id = i.invoice_id\n",
    "     WHERE i.billing_country = \"USA\"\n",
    "     )\n",
    "\n",
    "SELECT g.name genres,\n",
    "       COUNT(ut.invoice_line_id) num_tracks_sold,\n",
    "       CAST(COUNT(ut.invoice_line_id) as Float)/(SELECT COUNT(*) FROM usa_tracks) percent_sold\n",
    "FROM usa_tracks ut\n",
    "LEFT JOIN track t ON t.track_id = ut.track_id\n",
    "LEFT JOIN genre g ON g.genre_id = t.genre_id\n",
    "GROUP BY 1\n",
    "ORDER BY 2 DESC    \n",
    "LIMIT 10\n",
    "\n",
    "\"\"\"\n",
    "usa_tracks_sold = run_query(q1)\n",
    "usa_tracks_sold"
   ]
  },
  {
   "cell_type": "markdown",
   "metadata": {},
   "source": [
    "Now I'll visualize this data:"
   ]
  },
  {
   "cell_type": "code",
   "execution_count": 3,
   "metadata": {
    "collapsed": false
   },
   "outputs": [
    {
     "data": {
      "image/png": "[encoded data removed]",
      "text/plain": [
       "<matplotlib.figure.Figure at 0x7f3d143ec198>"
      ]
     },
     "metadata": {},
     "output_type": "display_data"
    }
   ],
   "source": [
    "#I set the genre as the dataframe index so it will become the x-axis\n",
    "usa_tracks_sold.set_index(\"genres\", drop=True, inplace=True)\n",
    "\n",
    "ax = usa_tracks_sold.plot.barh(figsize = (8,5),legend = False)\n",
    "ax.set_title(\"Top Selling Genres in the USA\", size=15)\n",
    "ax.set_xlabel(\"Number of Tracks Sold\", size=12)\n",
    "ax.set_ylabel(\"Genres\", size=12)\n",
    "ax.grid()\n",
    "plt.show()\n"
   ]
  },
  {
   "cell_type": "markdown",
   "metadata": {},
   "source": [
    "Based on the results above, we should purchase albums from Red Tone (Punk), Slim Jim Bites (Blues), and Meteor and the Girls (Pop). However, Rock music dominates the market by making up more than half of purchases. The Chinook record store should consider adding more Rock albums to their inventory."
   ]
  },
  {
   "cell_type": "markdown",
   "metadata": {
    "collapsed": true
   },
   "source": [
    "### 2. Analyzing Employee Sales Performance\n",
    "Each customer for the Chinook store gets assigned to a sales support agent within the company when they first make a purchase. I have been asked to analyze the purchases of customers belonging to each employee to see if any sales support agent is performing either better or worse than the others.\n",
    "\n",
    "Task: Write a query that finds the total dollar amount of sales assigned to each sales support agent within the company. Adding any extra attributes for that employee that I find are relevant to the analysis."
   ]
  },
  {
   "cell_type": "code",
   "execution_count": 12,
   "metadata": {
    "collapsed": false,
    "scrolled": true
   },
   "outputs": [
    {
     "data": {
      "text/html": [
       "<div>\n",
       "<style scoped>\n",
       "    .dataframe tbody tr th:only-of-type {\n",
       "        vertical-align: middle;\n",
       "    }\n",
       "\n",
       "    .dataframe tbody tr th {\n",
       "        vertical-align: top;\n",
       "    }\n",
       "\n",
       "    .dataframe thead th {\n",
       "        text-align: right;\n",
       "    }\n",
       "</style>\n",
       "<table border=\"1\" class=\"dataframe\">\n",
       "  <thead>\n",
       "    <tr style=\"text-align: right;\">\n",
       "      <th></th>\n",
       "      <th>Agent</th>\n",
       "      <th>Total_Sales</th>\n",
       "    </tr>\n",
       "  </thead>\n",
       "  <tbody>\n",
       "    <tr>\n",
       "      <th>0</th>\n",
       "      <td>Jane Peacock</td>\n",
       "      <td>1731.51</td>\n",
       "    </tr>\n",
       "    <tr>\n",
       "      <th>1</th>\n",
       "      <td>Margaret Park</td>\n",
       "      <td>1584.00</td>\n",
       "    </tr>\n",
       "    <tr>\n",
       "      <th>2</th>\n",
       "      <td>Steve Johnson</td>\n",
       "      <td>1393.92</td>\n",
       "    </tr>\n",
       "  </tbody>\n",
       "</table>\n",
       "</div>"
      ],
      "text/plain": [
       "           Agent  Total_Sales\n",
       "0   Jane Peacock      1731.51\n",
       "1  Margaret Park      1584.00\n",
       "2  Steve Johnson      1393.92"
      ]
     },
     "execution_count": 12,
     "metadata": {},
     "output_type": "execute_result"
    }
   ],
   "source": [
    "q2 = \"\"\"\n",
    "WITH info_table AS\n",
    "    (SELECT \n",
    "        c.customer_id customer_id,\n",
    "        c.support_rep_id support_agent,\n",
    "        e.first_name || \" \" || e.last_name employee_name,\n",
    "        i.total sales_amount\n",
    "     FROM employee e\n",
    "     INNER JOIN customer c on c.support_rep_id = e.employee_id\n",
    "     INNER JOIN invoice i on i.customer_id = c.customer_id\n",
    "     )\n",
    "SELECT employee_name Agent,\n",
    "       SUM(sales_amount) Total_Sales\n",
    "FROM info_table\n",
    "GROUP BY 1\n",
    "ORDER BY 2 DESC\n",
    "\"\"\"\n",
    "agent_sales = run_query(q2)\n",
    "agent_sales"
   ]
  },
  {
   "cell_type": "markdown",
   "metadata": {},
   "source": [
    "Now that I have my query I can plot the results."
   ]
  },
  {
   "cell_type": "code",
   "execution_count": 28,
   "metadata": {
    "collapsed": false
   },
   "outputs": [
    {
     "data": {
      "image/png": "[encoded data removed]",
      "text/plain": [
       "<matplotlib.figure.Figure at 0x7f3cc5b4a898>"
      ]
     },
     "metadata": {},
     "output_type": "display_data"
    }
   ],
   "source": [
    "#agent_sales.set_index(\"Agent\", drop=True, inplace=True)\n",
    "\n",
    "ax = agent_sales.plot.bar(figsize = (8,5),legend = False)\n",
    "ax.set_title(\"Employee Sales Performance\", size=15)\n",
    "ax.set_ylabel(\"Total Sales ($)\", size=12)\n",
    "ax.set_xticklabels(ax.get_xticklabels(), rotation=0, size=11)\n",
    "ax.grid()\n",
    "plt.show()"
   ]
  },
  {
   "cell_type": "markdown",
   "metadata": {},
   "source": [
    "Jane Peacock performs the best out of the three sales support agents at Chinook. Since this analysis equates performace with total sales there could be other factors that influence total sales. Perhaps Jane Peacock has been working at Chinook longer, so she's had more time to aquire customers. Maybe she is the head sales support agent and Margaret and Steve report to her. I'll write a query to get more information about each sales support agent to see if there are any factors influencing sales performance."
   ]
  },
  {
   "cell_type": "code",
   "execution_count": 37,
   "metadata": {
    "collapsed": false
   },
   "outputs": [
    {
     "data": {
      "text/html": [
       "<div>\n",
       "<style scoped>\n",
       "    .dataframe tbody tr th:only-of-type {\n",
       "        vertical-align: middle;\n",
       "    }\n",
       "\n",
       "    .dataframe tbody tr th {\n",
       "        vertical-align: top;\n",
       "    }\n",
       "\n",
       "    .dataframe thead th {\n",
       "        text-align: right;\n",
       "    }\n",
       "</style>\n",
       "<table border=\"1\" class=\"dataframe\">\n",
       "  <thead>\n",
       "    <tr style=\"text-align: right;\">\n",
       "      <th></th>\n",
       "      <th>support_agent</th>\n",
       "      <th>employee_name</th>\n",
       "      <th>hired</th>\n",
       "      <th>num_customers</th>\n",
       "      <th>supervisor</th>\n",
       "    </tr>\n",
       "  </thead>\n",
       "  <tbody>\n",
       "    <tr>\n",
       "      <th>0</th>\n",
       "      <td>3</td>\n",
       "      <td>Jane Peacock</td>\n",
       "      <td>2017-04-01 00:00:00</td>\n",
       "      <td>212</td>\n",
       "      <td>Nancy Edwards</td>\n",
       "    </tr>\n",
       "    <tr>\n",
       "      <th>1</th>\n",
       "      <td>4</td>\n",
       "      <td>Margaret Park</td>\n",
       "      <td>2017-05-03 00:00:00</td>\n",
       "      <td>214</td>\n",
       "      <td>Nancy Edwards</td>\n",
       "    </tr>\n",
       "    <tr>\n",
       "      <th>2</th>\n",
       "      <td>5</td>\n",
       "      <td>Steve Johnson</td>\n",
       "      <td>2017-10-17 00:00:00</td>\n",
       "      <td>188</td>\n",
       "      <td>Nancy Edwards</td>\n",
       "    </tr>\n",
       "  </tbody>\n",
       "</table>\n",
       "</div>"
      ],
      "text/plain": [
       "   support_agent  employee_name                hired  num_customers  \\\n",
       "0              3   Jane Peacock  2017-04-01 00:00:00            212   \n",
       "1              4  Margaret Park  2017-05-03 00:00:00            214   \n",
       "2              5  Steve Johnson  2017-10-17 00:00:00            188   \n",
       "\n",
       "      supervisor  \n",
       "0  Nancy Edwards  \n",
       "1  Nancy Edwards  \n",
       "2  Nancy Edwards  "
      ]
     },
     "execution_count": 37,
     "metadata": {},
     "output_type": "execute_result"
    }
   ],
   "source": [
    "q = '''\n",
    "     SELECT \n",
    "            c.support_rep_id support_agent,\n",
    "            e.first_name || \" \" || e.last_name employee_name,\n",
    "            e.hire_date hired,\n",
    "            COUNT(c.customer_id) num_customers,\n",
    "            e2.first_name || \" \" || e2.last_name supervisor\n",
    "     FROM employee e\n",
    "     INNER JOIN customer c on c.support_rep_id = e.employee_id\n",
    "     INNER JOIN invoice i on i.customer_id = c.customer_id\n",
    "     INNER JOIN employee e2 ON e.reports_to = e2.employee_id\n",
    "     GROUP BY 1\n",
    "     '''\n",
    "run_query(q)"
   ]
  },
  {
   "cell_type": "markdown",
   "metadata": {},
   "source": [
    "It appears that Jane Peacock has been working at Chinook the longest, however Margaret Park was hired about a month later. Steve Johnson was hired five months after Margaret. It is interesting to note that although Jane is performing the best and bringing in the most in sales, Margaret actually has 2 more customers than Jane. The difference between Jane and Margaret's sales is about $150. I'll have to assume that Jane's customers may spend more money than Margaret's, or make more frequent purchases."
   ]
  },
  {
   "cell_type": "code",
   "execution_count": null,
   "metadata": {
    "collapsed": true
   },
   "outputs": [],
   "source": []
  }
 ],
 "metadata": {
  "kernelspec": {
   "display_name": "Python 3",
   "language": "python",
   "name": "python3"
  },
  "language_info": {
   "codemirror_mode": {
    "name": "ipython",
    "version": 3
   },
   "file_extension": ".py",
   "mimetype": "text/x-python",
   "name": "python",
   "nbconvert_exporter": "python",
   "pygments_lexer": "ipython3",
   "version": "3.4.3"
  }
 },
 "nbformat": 4,
 "nbformat_minor": 2
}
